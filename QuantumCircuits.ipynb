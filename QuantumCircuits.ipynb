{
 "cells": [
  {
   "attachments": {},
   "cell_type": "markdown",
   "metadata": {},
   "source": [
    "# Code Examples \n",
    "\n",
    "## Single Qubit\n",
    "\n",
    "#### Vectors and matrices in Python\n",
    "\n",
    "`Qiskit` uses the Python programming language, so before discussing Qiskit specifically it may be helpful to very briefly discuss matrix and vector computations in Python. In Python, matrix and vector computations can be performed using the array class from the `NumPy` library. \n",
    "\n",
    "Here is an example of a code that defines two vectors, `ket0` and `ket1`, corresponding to the qubit state vectors $|0\\rangle$ and $|1\\rangle$, and displays their average."
   ]
  },
  {
   "cell_type": "code",
   "execution_count": 1,
   "metadata": {},
   "outputs": [
    {
     "data": {
      "text/plain": [
       "array([0.5, 0.5])"
      ]
     },
     "execution_count": 1,
     "metadata": {},
     "output_type": "execute_result"
    }
   ],
   "source": [
    "import numpy as np\n",
    "\n",
    "ket0 = np.array([1,0])\n",
    "ket1 = np.array([0,1])\n",
    "\n",
    "ket0/2 + ket1/2"
   ]
  },
  {
   "attachments": {},
   "cell_type": "markdown",
   "metadata": {},
   "source": [
    "We can also use array to create matrices that represent operations."
   ]
  },
  {
   "cell_type": "code",
   "execution_count": 2,
   "metadata": {},
   "outputs": [
    {
     "data": {
      "text/plain": [
       "array([[1. , 1. ],\n",
       "       [0.5, 0. ]])"
      ]
     },
     "execution_count": 2,
     "metadata": {},
     "output_type": "execute_result"
    }
   ],
   "source": [
    "M1 = np.array([ [1, 1], [0, 0] ])\n",
    "M2 = np.array([ [1, 1], [1, 0] ])\n",
    "\n",
    "M1/2 + M2/2"
   ]
  },
  {
   "attachments": {},
   "cell_type": "markdown",
   "metadata": {},
   "source": [
    "Matrix multiplication (including matrix-vector multiplication as a special case) can be performed using the `matmul` function from `NumPy`:"
   ]
  },
  {
   "cell_type": "code",
   "execution_count": 3,
   "metadata": {},
   "outputs": [
    {
     "name": "stdout",
     "output_type": "stream",
     "text": [
      "product of M1 with ket0:  [1 0]\n",
      "product of M1 and M2: \n",
      " [[2 1]\n",
      " [0 0]]\n"
     ]
    }
   ],
   "source": [
    "print(\"product of M1 with ket0: \", np.matmul(M1,ket0))\n",
    "print(\"product of M1 and M2: \\n\",np.matmul(M1,M2))"
   ]
  },
  {
   "attachments": {},
   "cell_type": "markdown",
   "metadata": {},
   "source": [
    "### States, measurements, and operations in Qiskit\n",
    "\n",
    "Qiskit includes several classes that allow for states, measurements, and operations to be easily created and manipulated — so starting from scratch and programming everything that is needed to simulate quantum states, measurements, and operations in Python is not required. \n",
    "\n",
    "Qiskit's `Statevector` class provides functionality for defining and manipulating quantum state vectors. The following code cell imports the Statevector class and defines a few vectors using it:"
   ]
  },
  {
   "cell_type": "code",
   "execution_count": 4,
   "metadata": {},
   "outputs": [],
   "source": [
    "from qiskit.quantum_info import Statevector\n",
    "\n",
    "u = Statevector([1/np.sqrt(2), 1/np.sqrt(2)])\n",
    "v = Statevector([(1+2.j)/3, -2/3])"
   ]
  },
  {
   "attachments": {},
   "cell_type": "markdown",
   "metadata": {},
   "source": [
    "The `Statevector` class provides a `draw` method for displaying state vectors, including `latex` and `text` options for different visualizations, as this code cell demonstrates:"
   ]
  },
  {
   "cell_type": "code",
   "execution_count": 5,
   "metadata": {},
   "outputs": [
    {
     "data": {
      "text/latex": [
       "$$\\frac{\\sqrt{2}}{2} |0\\rangle+\\frac{\\sqrt{2}}{2} |1\\rangle$$"
      ],
      "text/plain": [
       "<IPython.core.display.Latex object>"
      ]
     },
     "metadata": {},
     "output_type": "display_data"
    },
    {
     "data": {
      "text/plain": [
       "[0.70710678+0.j,0.70710678+0.j]"
      ]
     },
     "metadata": {},
     "output_type": "display_data"
    }
   ],
   "source": [
    "display(u.draw('latex'))\n",
    "display(u.draw('text'))"
   ]
  },
  {
   "cell_type": "code",
   "execution_count": 6,
   "metadata": {},
   "outputs": [
    {
     "data": {
      "text/latex": [
       "$$(\\frac{1}{3} + \\frac{2 i}{3}) |0\\rangle- \\frac{2}{3} |1\\rangle$$"
      ],
      "text/plain": [
       "<IPython.core.display.Latex object>"
      ]
     },
     "metadata": {},
     "output_type": "display_data"
    }
   ],
   "source": [
    "display(v.draw('latex'))"
   ]
  },
  {
   "attachments": {},
   "cell_type": "markdown",
   "metadata": {},
   "source": [
    "The `Statevector` class also includes the `is_valid` method, which checks to see if a given vector is a valid quantum state vector."
   ]
  },
  {
   "cell_type": "code",
   "execution_count": 7,
   "metadata": {},
   "outputs": [
    {
     "data": {
      "text/plain": [
       "True"
      ]
     },
     "metadata": {},
     "output_type": "display_data"
    },
    {
     "data": {
      "text/plain": [
       "False"
      ]
     },
     "metadata": {},
     "output_type": "display_data"
    }
   ],
   "source": [
    "w = Statevector([1/3,2/3])\n",
    "\n",
    "display(v.is_valid())\n",
    "display(w.is_valid())"
   ]
  },
  {
   "attachments": {},
   "cell_type": "markdown",
   "metadata": {},
   "source": [
    "### Simulating measurements using `Statevector`\n",
    "\n",
    "We will see one way that measurements of quantum states can be simulated in Qiskit, using the measure method from the `Statevector` class.\n",
    "\n",
    "First, we create a qubit state vector v and then display it. Next, running the `measure` method simulates a standard basis measurement. It returns the result of that measurement, plus the new quantum state of our system after that measurement."
   ]
  },
  {
   "cell_type": "code",
   "execution_count": 8,
   "metadata": {},
   "outputs": [
    {
     "data": {
      "text/plain": [
       "('0',\n",
       " Statevector([0.4472136+0.89442719j, 0.       +0.j        ],\n",
       "             dims=(2,)))"
      ]
     },
     "execution_count": 8,
     "metadata": {},
     "output_type": "execute_result"
    }
   ],
   "source": [
    "v = Statevector([(1+2.j)/3, -2/3])\n",
    "\n",
    "v.measure()\n"
   ]
  },
  {
   "attachments": {},
   "cell_type": "markdown",
   "metadata": {},
   "source": [
    "Measurement outcomes are probabilistic, so the same method can return different results. For the particular example of the vector v defined above, the measure method defines the quantum state vector after the measurement takes place to be $ \\frac{1+2i}{\\sqrt{5}} |0\\rangle $ or $ - |1\\rangle $\n",
    "depending on the measurement outcome. In both cases the alternatives are, in fact, equivalent — they are said to differ by a global phase because one is equal to the other multiplied by a complex number on the unit circle.\n",
    "\n",
    "`Statevector` also comes with a `sample_counts` method that allows for the simulation of any number of measurements on the system. For example, the following cell shows the outcome of measuring the vector $v$ 1000 times."
   ]
  },
  {
   "cell_type": "code",
   "execution_count": 9,
   "metadata": {},
   "outputs": [
    {
     "data": {
      "text/plain": [
       "{'0': 5512, '1': 4488}"
      ]
     },
     "metadata": {},
     "output_type": "display_data"
    },
    {
     "data": {
      "image/png": "[encoded data removed]",
      "text/plain": [
       "<Figure size 700x500 with 1 Axes>"
      ]
     },
     "execution_count": 9,
     "metadata": {},
     "output_type": "execute_result"
    }
   ],
   "source": [
    "from qiskit.visualization import plot_histogram\n",
    "import matplotlib.pyplot as plt\n",
    "\n",
    "stat = v.sample_counts(10000)\n",
    "display(stat)\n",
    "plot_histogram(stat)"
   ]
  },
  {
   "attachments": {},
   "cell_type": "markdown",
   "metadata": {},
   "source": [
    "### Performing operations with Operator and Statevector\n",
    "\n",
    "Unitary operations can be defined and performed on state vectors in Qiskit using the Operator class, as in the example that follows."
   ]
  },
  {
   "cell_type": "code",
   "execution_count": 10,
   "metadata": {},
   "outputs": [],
   "source": [
    "from qiskit.quantum_info import Operator\n",
    "\n",
    "t = np.sqrt(2)\n",
    "\n",
    "X = Operator([[0,1],[1,0]])\n",
    "Y = Operator([[0,-1.j],[1.j,0]])\n",
    "Z = Operator([[1,0],[0,-1]])\n",
    "H = Operator([[1/t, 1/t],[1/t, -1/t]])\n",
    "S = Operator([[1,0],[0,1.j]])\n",
    "T = Operator([[1,0],[0,(1+1.j)/t]])\n",
    "\n",
    "v = Statevector([1,0])"
   ]
  },
  {
   "attachments": {},
   "cell_type": "markdown",
   "metadata": {},
   "source": [
    "We look at the output of these operations on the statevector $|0\\rangle$."
   ]
  },
  {
   "cell_type": "code",
   "execution_count": 11,
   "metadata": {},
   "outputs": [
    {
     "data": {
      "text/latex": [
       "$$ |1\\rangle$$"
      ],
      "text/plain": [
       "<IPython.core.display.Latex object>"
      ]
     },
     "metadata": {},
     "output_type": "display_data"
    },
    {
     "data": {
      "text/latex": [
       "$$i |1\\rangle$$"
      ],
      "text/plain": [
       "<IPython.core.display.Latex object>"
      ]
     },
     "metadata": {},
     "output_type": "display_data"
    },
    {
     "data": {
      "text/latex": [
       "$$\\frac{\\sqrt{2}}{2} |0\\rangle+\\frac{\\sqrt{2}}{2} |1\\rangle$$"
      ],
      "text/plain": [
       "<IPython.core.display.Latex object>"
      ]
     },
     "metadata": {},
     "output_type": "display_data"
    },
    {
     "data": {
      "text/latex": [
       "$$ |0\\rangle$$"
      ],
      "text/plain": [
       "<IPython.core.display.Latex object>"
      ]
     },
     "metadata": {},
     "output_type": "display_data"
    }
   ],
   "source": [
    "display(v.evolve(X).draw('latex'))\n",
    "display(v.evolve(Y).draw('latex'))\n",
    "display(v.evolve(H).draw('latex'))\n",
    "display(v.evolve(S).draw('latex'))"
   ]
  },
  {
   "attachments": {},
   "cell_type": "markdown",
   "metadata": {},
   "source": [
    "### Looking ahead toward quantum circuits\n",
    "\n",
    "Quantum circuits won't be formally introduced until Lesson 3, but we can nevertheless experiment with composing qubit unitary operations using Qiskit's `QuantumCircuit` class. In particular, we may define a quantum circuit (which in this case will simply be a sequence of unitary operations performed on a single qubit) as follows."
   ]
  },
  {
   "cell_type": "code",
   "execution_count": 12,
   "metadata": {},
   "outputs": [
    {
     "data": {
      "text/html": [
       "<pre style=\"word-wrap: normal;white-space: pre;background: #fff0;line-height: 1.1;font-family: &quot;Courier New&quot;,Courier,monospace\">   ┌───┐┌───┐┌───┐┌───┐┌───┐\n",
       "q: ┤ H ├┤ T ├┤ H ├┤ T ├┤ Z ├\n",
       "   └───┘└───┘└───┘└───┘└───┘</pre>"
      ],
      "text/plain": [
       "   ┌───┐┌───┐┌───┐┌───┐┌───┐\n",
       "q: ┤ H ├┤ T ├┤ H ├┤ T ├┤ Z ├\n",
       "   └───┘└───┘└───┘└───┘└───┘"
      ]
     },
     "execution_count": 12,
     "metadata": {},
     "output_type": "execute_result"
    }
   ],
   "source": [
    "from qiskit import QuantumCircuit\n",
    "\n",
    "# initiate an instance of the class\n",
    "qc = QuantumCircuit(1) ## A QuantumCircuit with 1 qubits\n",
    "\n",
    "qc.h(0)\n",
    "qc.t(0)\n",
    "qc.h(0)\n",
    "qc.t(0)\n",
    "qc.z(0)\n",
    "\n",
    "qc.draw()"
   ]
  },
  {
   "attachments": {},
   "cell_type": "markdown",
   "metadata": {},
   "source": [
    "The operations are applied sequentially, starting on the left and ending on the right in the figure. Let us first initialize a starting quantum state vector and then evolve that state according to the sequence of operations."
   ]
  },
  {
   "cell_type": "code",
   "execution_count": 13,
   "metadata": {},
   "outputs": [
    {
     "data": {
      "text/latex": [
       "$$(\\frac{686 \\cdot 2^{\\frac{47}{48}} \\cdot 3^{\\frac{155}{192}} \\cdot 5^{\\frac{13}{96}} \\cdot 7^{\\frac{37}{96}}}{10125} + \\frac{\\sqrt{2} i}{4}) |0\\rangle+(-0.353553390593 + 0.146446609407 i) |1\\rangle$$"
      ],
      "text/plain": [
       "<IPython.core.display.Latex object>"
      ]
     },
     "execution_count": 13,
     "metadata": {},
     "output_type": "execute_result"
    }
   ],
   "source": [
    "ket0 = Statevector([1,0])\n",
    "v = ket0.evolve(qc)\n",
    "v.draw('latex')"
   ]
  },
  {
   "cell_type": "code",
   "execution_count": 14,
   "metadata": {},
   "outputs": [
    {
     "data": {
      "image/png": "[encoded data removed]",
      "text/plain": [
       "<Figure size 700x500 with 1 Axes>"
      ]
     },
     "execution_count": 14,
     "metadata": {},
     "output_type": "execute_result"
    }
   ],
   "source": [
    "stat = v.sample_counts(5000)\n",
    "plot_histogram(stat)"
   ]
  },
  {
   "attachments": {},
   "cell_type": "markdown",
   "metadata": {},
   "source": [
    "## Multiple Qubits\n",
    "\n",
    "We learned about Qiskit's `Statevector` and `Operator` classes, and used them to simulate quantum systems. In this section, we'll use them to explore the behavior of multiple systems. We'll start by importing these classes.\n",
    "\n",
    "### Tensor Products\n",
    "\n",
    "The `Statevector` class has a `tensor` method which returns the tensor product of itself and another `Statevector`. For example, below we create two state vectors representing $|0\\rangle$ and $|1\\rangle$, and use the tensor method to create a new vector, $|0\\rangle \\otimes |1\\rangle$."
   ]
  },
  {
   "cell_type": "code",
   "execution_count": 15,
   "metadata": {},
   "outputs": [
    {
     "data": {
      "text/latex": [
       "$$ |01\\rangle$$"
      ],
      "text/plain": [
       "<IPython.core.display.Latex object>"
      ]
     },
     "metadata": {},
     "output_type": "display_data"
    }
   ],
   "source": [
    "ket0 = Statevector([1,0])\n",
    "ket1 = Statevector([0,1])\n",
    "\n",
    "ket01 = ket0.tensor(ket1)\n",
    "display(ket01.draw('latex'))"
   ]
  },
  {
   "attachments": {},
   "cell_type": "markdown",
   "metadata": {},
   "source": [
    "In another example below, we create state vectors representing the $|-\\rangle$ and $\\frac{1}{\\sqrt{2}} (|0\\rangle + i|1\\rangle)$ states, and combine them to create a new state vector. We'll assign this new vector to the variable `psi`."
   ]
  },
  {
   "cell_type": "code",
   "execution_count": 16,
   "metadata": {},
   "outputs": [
    {
     "data": {
      "text/latex": [
       "$$\\frac{1}{2} |00\\rangle+\\frac{i}{2} |01\\rangle- \\frac{1}{2} |10\\rangle- \\frac{i}{2} |11\\rangle$$"
      ],
      "text/plain": [
       "<IPython.core.display.Latex object>"
      ]
     },
     "execution_count": 16,
     "metadata": {},
     "output_type": "execute_result"
    }
   ],
   "source": [
    "# Another quick way to define the common states\n",
    "\n",
    "zero = Statevector.from_label('0')\n",
    "one = Statevector.from_label('1')\n",
    "plus = Statevector.from_label('+')\n",
    "minus = Statevector.from_label('-')\n",
    "\n",
    "i_state = 1/np.sqrt(2) * (zero + 1.j * one)\n",
    "psi = minus.tensor(i_state)\n",
    "\n",
    "psi.draw('latex')"
   ]
  },
  {
   "attachments": {},
   "cell_type": "markdown",
   "metadata": {},
   "source": [
    "The `Operator` class also has a `tensor` method. In the example below, we create the  and  gates and display their tensor product."
   ]
  },
  {
   "cell_type": "code",
   "execution_count": 17,
   "metadata": {},
   "outputs": [
    {
     "data": {
      "text/plain": [
       "Operator([[ 0.+0.j,  0.+0.j,  1.+0.j,  0.+0.j],\n",
       "          [ 0.+0.j, -0.+0.j,  0.+0.j, -1.+0.j],\n",
       "          [ 1.+0.j,  0.+0.j,  0.+0.j,  0.+0.j],\n",
       "          [ 0.+0.j, -1.+0.j,  0.+0.j, -0.+0.j]],\n",
       "         input_dims=(2, 2), output_dims=(2, 2))"
      ]
     },
     "execution_count": 17,
     "metadata": {},
     "output_type": "execute_result"
    }
   ],
   "source": [
    "X.tensor(Z)"
   ]
  },
  {
   "attachments": {},
   "cell_type": "markdown",
   "metadata": {},
   "source": [
    "We can then treat these compound states and operations as we did single systems in the previous page. For example, in the cell below we use the state psi we defined above, and calculate $(Z\\otimes X)| \\psi \\rangle$.\n",
    "\n",
    "Note: You can also use the ^ operator to tensor two operators together."
   ]
  },
  {
   "cell_type": "code",
   "execution_count": 18,
   "metadata": {},
   "outputs": [
    {
     "data": {
      "text/latex": [
       "$$\\frac{i}{2} |00\\rangle+\\frac{1}{2} |01\\rangle+(\\frac{\\sqrt{2}}{4} - \\frac{\\sqrt{2} i}{4}) |10\\rangle+(- \\frac{\\sqrt{2}}{4} - \\frac{\\sqrt{2} i}{4}) |11\\rangle$$"
      ],
      "text/plain": [
       "<IPython.core.display.Latex object>"
      ]
     },
     "metadata": {},
     "output_type": "display_data"
    }
   ],
   "source": [
    "psi_1 = psi.evolve(T^X)\n",
    "\n",
    "display(psi_1.draw('latex'))"
   ]
  },
  {
   "attachments": {},
   "cell_type": "markdown",
   "metadata": {},
   "source": [
    "Below, we create a $\\mathbf{CNOT}$ operator and calculate $\\mathbf{CNOT} |\\psi \\rangle$."
   ]
  },
  {
   "cell_type": "code",
   "execution_count": 19,
   "metadata": {},
   "outputs": [
    {
     "data": {
      "text/latex": [
       "$$\\frac{1}{2} |00\\rangle+\\frac{i}{2} |01\\rangle- \\frac{i}{2} |10\\rangle- \\frac{1}{2} |11\\rangle$$"
      ],
      "text/plain": [
       "<IPython.core.display.Latex object>"
      ]
     },
     "metadata": {},
     "output_type": "display_data"
    }
   ],
   "source": [
    "CNOT = Operator([ [1, 0, 0, 0],\n",
    "                 [0, 1, 0, 0],\n",
    "                 [0, 0, 0, 1],\n",
    "                 [0, 0, 1, 0] ])\n",
    "\n",
    "psi_2 = psi.evolve(CNOT)\n",
    "display(psi_2.draw('latex'))"
   ]
  },
  {
   "attachments": {},
   "cell_type": "markdown",
   "metadata": {},
   "source": [
    "**Challenge**: Can you create each of the Bell states using only single-qubit state vectors and the $\\mathbf{CNOT}$ operator?"
   ]
  },
  {
   "cell_type": "code",
   "execution_count": 20,
   "metadata": {},
   "outputs": [
    {
     "data": {
      "text/latex": [
       "$$\\frac{\\sqrt{2}}{2} |00\\rangle+\\frac{\\sqrt{2}}{2} |11\\rangle$$"
      ],
      "text/plain": [
       "<IPython.core.display.Latex object>"
      ]
     },
     "metadata": {},
     "output_type": "display_data"
    },
    {
     "data": {
      "text/latex": [
       "$$\\frac{\\sqrt{2}}{2} |00\\rangle- \\frac{\\sqrt{2}}{2} |11\\rangle$$"
      ],
      "text/plain": [
       "<IPython.core.display.Latex object>"
      ]
     },
     "metadata": {},
     "output_type": "display_data"
    },
    {
     "data": {
      "text/latex": [
       "$$\\frac{\\sqrt{2}}{2} |01\\rangle+\\frac{\\sqrt{2}}{2} |10\\rangle$$"
      ],
      "text/plain": [
       "<IPython.core.display.Latex object>"
      ]
     },
     "metadata": {},
     "output_type": "display_data"
    },
    {
     "data": {
      "text/latex": [
       "$$\\frac{\\sqrt{2}}{2} |01\\rangle- \\frac{\\sqrt{2}}{2} |10\\rangle$$"
      ],
      "text/plain": [
       "<IPython.core.display.Latex object>"
      ]
     },
     "metadata": {},
     "output_type": "display_data"
    }
   ],
   "source": [
    "# SOLUTION\n",
    "phi_plus = plus.tensor(zero).evolve(CNOT)\n",
    "phi_minus = minus.tensor(zero).evolve(CNOT)\n",
    "psi_plus = plus.tensor(one).evolve(CNOT)\n",
    "psi_minus = minus.tensor(one).evolve(CNOT)\n",
    "\n",
    "display(phi_plus.draw('latex'))\n",
    "display(phi_minus.draw('latex'))\n",
    "display(psi_plus.draw('latex'))\n",
    "display(psi_minus.draw('latex'))"
   ]
  },
  {
   "attachments": {},
   "cell_type": "markdown",
   "metadata": {},
   "source": [
    "### Partial Measurements\n",
    "\n",
    "In the previous page, we used the `measure` method to simulate a measurement of the quantum state vector. This method returns two items: the simulated measurement result, and the new `Statevector` given this measurement.\n",
    "\n",
    "By default, `measure` measures all qubits in the state vector, but we can provide a list of integers to only measure the qubits at those indices. To demonstrate, the cell below creates the state $$ W = \\frac{1}{\\sqrt{3}} (|001\\rangle + |010\\rangle + |001\\rangle).$$"
   ]
  },
  {
   "cell_type": "code",
   "execution_count": 21,
   "metadata": {},
   "outputs": [
    {
     "data": {
      "text/latex": [
       "$$\\frac{\\sqrt{3}}{3} |001\\rangle+\\frac{\\sqrt{3}}{3} |010\\rangle+\\frac{\\sqrt{3}}{3} |100\\rangle$$"
      ],
      "text/plain": [
       "<IPython.core.display.Latex object>"
      ]
     },
     "metadata": {},
     "output_type": "display_data"
    }
   ],
   "source": [
    "W = Statevector([0,1,1,0,1,0,0,0]/np.sqrt(3))\n",
    "display(W.draw('latex'))"
   ]
  },
  {
   "attachments": {},
   "cell_type": "markdown",
   "metadata": {},
   "source": [
    "The cell below simulates a measurement on the rightmost qubit (which has index 0). The other two qubits are not measured."
   ]
  },
  {
   "cell_type": "code",
   "execution_count": 22,
   "metadata": {},
   "outputs": [
    {
     "name": "stdout",
     "output_type": "stream",
     "text": [
      "Measured: 0 \n",
      " New Statevector:\n"
     ]
    },
    {
     "data": {
      "text/latex": [
       "$$\\frac{\\sqrt{2}}{2} |010\\rangle+\\frac{\\sqrt{2}}{2} |100\\rangle$$"
      ],
      "text/plain": [
       "<IPython.core.display.Latex object>"
      ]
     },
     "metadata": {},
     "output_type": "display_data"
    }
   ],
   "source": [
    "result, new_statevector = W.measure([0])\n",
    "print(f\"Measured: {result} \\n New Statevector:\")\n",
    "display(new_statevector.draw('latex'))"
   ]
  },
  {
   "cell_type": "code",
   "execution_count": 23,
   "metadata": {},
   "outputs": [
    {
     "name": "stdout",
     "output_type": "stream",
     "text": [
      "Measured: 0 \n",
      " New Statevector:\n"
     ]
    },
    {
     "data": {
      "text/latex": [
       "$$\\frac{\\sqrt{2}}{2} |001\\rangle+\\frac{\\sqrt{2}}{2} |100\\rangle$$"
      ],
      "text/plain": [
       "<IPython.core.display.Latex object>"
      ]
     },
     "metadata": {},
     "output_type": "display_data"
    }
   ],
   "source": [
    "result, new_statevector = W.measure([1])\n",
    "print(f\"Measured: {result} \\n New Statevector:\")\n",
    "display(new_statevector.draw('latex'))"
   ]
  },
  {
   "attachments": {},
   "cell_type": "markdown",
   "metadata": {},
   "source": [
    "**Explore**: Say you applied an $H$-gate to the rightmost qubit of the $W$-state before measuring it. What would the probabilities of the two outcomes be? And what would the resulting state of the other qubits be for each of these outcomes?"
   ]
  },
  {
   "cell_type": "code",
   "execution_count": 24,
   "metadata": {},
   "outputs": [
    {
     "data": {
      "text/latex": [
       "$$\\frac{\\sqrt{6}}{6} |000\\rangle- \\frac{\\sqrt{6}}{6} |001\\rangle+\\frac{\\sqrt{6}}{6} |010\\rangle+\\frac{\\sqrt{6}}{6} |011\\rangle+\\frac{\\sqrt{6}}{6} |100\\rangle+\\frac{\\sqrt{6}}{6} |101\\rangle$$"
      ],
      "text/plain": [
       "<IPython.core.display.Latex object>"
      ]
     },
     "metadata": {},
     "output_type": "display_data"
    }
   ],
   "source": [
    "I = Operator([[1,0],[0,1]])\n",
    "W1 = W.evolve(I^I^H)\n",
    "\n",
    "display(W1.draw('latex'))"
   ]
  },
  {
   "cell_type": "code",
   "execution_count": 25,
   "metadata": {},
   "outputs": [
    {
     "name": "stdout",
     "output_type": "stream",
     "text": [
      "Measured: 1 \n",
      " New Statevector:\n"
     ]
    },
    {
     "data": {
      "text/latex": [
       "$$- \\frac{\\sqrt{3}}{3} |001\\rangle+\\frac{\\sqrt{3}}{3} |011\\rangle+\\frac{\\sqrt{3}}{3} |101\\rangle$$"
      ],
      "text/plain": [
       "<IPython.core.display.Latex object>"
      ]
     },
     "metadata": {},
     "output_type": "display_data"
    }
   ],
   "source": [
    "result, new_statevector = W1.measure([0])\n",
    "print(f\"Measured: {result} \\n New Statevector:\")\n",
    "display(new_statevector.draw('latex'))"
   ]
  },
  {
   "cell_type": "code",
   "execution_count": 26,
   "metadata": {},
   "outputs": [
    {
     "data": {
      "text/plain": [
       "array([0.5, 0.5])"
      ]
     },
     "execution_count": 26,
     "metadata": {},
     "output_type": "execute_result"
    }
   ],
   "source": [
    "W1.probabilities([0])"
   ]
  },
  {
   "cell_type": "code",
   "execution_count": 27,
   "metadata": {},
   "outputs": [
    {
     "data": {
      "text/html": [
       "<h3>Version Information</h3><table><tr><th>Qiskit Software</th><th>Version</th></tr><tr><td><code>qiskit-terra</code></td><td>0.23.2</td></tr><tr><td><code>qiskit-aer</code></td><td>0.11.2</td></tr><tr><td><code>qiskit-ibmq-provider</code></td><td>0.20.1</td></tr><tr><td><code>qiskit</code></td><td>0.41.1</td></tr><tr><th>System information</th></tr><tr><td>Python version</td><td>3.10.9</td></tr><tr><td>Python compiler</td><td>MSC v.1916 64 bit (AMD64)</td></tr><tr><td>Python build</td><td>main, Mar  8 2023 10:42:25</td></tr><tr><td>OS</td><td>Windows</td></tr><tr><td>CPUs</td><td>4</td></tr><tr><td>Memory (Gb)</td><td>15.818855285644531</td></tr><tr><td colspan='2'>Fri Mar 10 21:02:41 2023 Pacific Standard Time</td></tr></table>"
      ],
      "text/plain": [
       "<IPython.core.display.HTML object>"
      ]
     },
     "metadata": {},
     "output_type": "display_data"
    }
   ],
   "source": [
    "import qiskit.tools.jupyter\n",
    "%qiskit_version_table"
   ]
  },
  {
   "attachments": {},
   "cell_type": "markdown",
   "metadata": {},
   "source": [
    "## Quantum Circuits\n",
    "\n",
    "In the quantum circuit model, wires represent qubits and gates represent operations acting on these qubits. We'll focus for now on operations we have encountered so far, namely `unitary operations` and `standard basis measurements`. As we learn about other sorts of quantum operations and measurements, we'll enhance our model accordingly.\n",
    "\n",
    "Here is an example of a quantum circuit."
   ]
  },
  {
   "cell_type": "code",
   "execution_count": 28,
   "metadata": {},
   "outputs": [
    {
     "data": {
      "text/html": [
       "<pre style=\"word-wrap: normal;white-space: pre;background: #fff0;line-height: 1.1;font-family: &quot;Courier New&quot;,Courier,monospace\">   ┌───┐┌───┐┌───┐┌───┐\n",
       "q: ┤ H ├┤ S ├┤ H ├┤ T ├\n",
       "   └───┘└───┘└───┘└───┘</pre>"
      ],
      "text/plain": [
       "   ┌───┐┌───┐┌───┐┌───┐\n",
       "q: ┤ H ├┤ S ├┤ H ├┤ T ├\n",
       "   └───┘└───┘└───┘└───┘"
      ]
     },
     "execution_count": 28,
     "metadata": {},
     "output_type": "execute_result"
    }
   ],
   "source": [
    "from qiskit import QuantumCircuit\n",
    "qc = QuantumCircuit(1)\n",
    "qc.h(0)\n",
    "qc.s(0)\n",
    "qc.h(0)\n",
    "qc.t(0)\n",
    "qc.draw()"
   ]
  },
  {
   "attachments": {},
   "cell_type": "markdown",
   "metadata": {},
   "source": [
    "The default names for qubits in Qiskit are $\\mathbf{q_0}$, $\\mathbf{q_1}$, $\\mathbf{q_2}$, etc., and when there is just a single qubit like in our example, the default name is $\\mathbf{q}$. If we wish to choose our own name we can do this using the `QuantumRegister` class like this:"
   ]
  },
  {
   "cell_type": "code",
   "execution_count": 29,
   "metadata": {},
   "outputs": [
    {
     "data": {
      "text/html": [
       "<pre style=\"word-wrap: normal;white-space: pre;background: #fff0;line-height: 1.1;font-family: &quot;Courier New&quot;,Courier,monospace\">   ┌───┐┌───┐┌───┐┌───┐┌───┐\n",
       "u: ┤ Y ├┤ S ├┤ H ├┤ T ├┤ X ├\n",
       "   └───┘└───┘└───┘└───┘└───┘</pre>"
      ],
      "text/plain": [
       "   ┌───┐┌───┐┌───┐┌───┐┌───┐\n",
       "u: ┤ Y ├┤ S ├┤ H ├┤ T ├┤ X ├\n",
       "   └───┘└───┘└───┘└───┘└───┘"
      ]
     },
     "execution_count": 29,
     "metadata": {},
     "output_type": "execute_result"
    }
   ],
   "source": [
    "from qiskit import QuantumRegister\n",
    "u = QuantumRegister(1, \"u\")\n",
    "qc = QuantumCircuit(u)\n",
    "qc.y(0)\n",
    "qc.s(0)\n",
    "qc.h(0)\n",
    "qc.t(0)\n",
    "qc.x(0)\n",
    "qc.draw()"
   ]
  },
  {
   "attachments": {},
   "cell_type": "markdown",
   "metadata": {},
   "source": [
    "**Ordering of qubits in quantum circuits**: Throughout this textbook (and in Qiskit) the topmost qubit in a circuit has index 0, and corresponds to the rightmost position in a Cartesian or tensor product. The second-to-top qubit has index 1, and corresponds to the position second-from-right in a Cartesian or tensor product, and so on, down to the bottommost qubit, which has the highest index, and corresponds to the leftmost position in a Cartesian or tensor product.\n",
    "\n",
    "So, for example, when we refer to the qubit in the zeroth position, we're referring to the topmost qubit in a circuit diagram or the rightmost qubit in the expression of a quantum state vector; the qubit in the first position is second-from-top in a circuit diagram or second from right in a quantum state vector; and so on. This indexing convention is known as little-endian indexing, because the indexes start at the \"little end\" when we think about the significance of bits in binary representations of numbers."
   ]
  },
  {
   "attachments": {},
   "cell_type": "markdown",
   "metadata": {},
   "source": [
    "The following circuit has two qubits $X$ and $Y$. We apply the Hadamard gate $H$ on $Y$ and then the $\\mathbf{CNOT}$ gate. There are also two classical bits, $A$ and $B$, and two measurement gates. "
   ]
  },
  {
   "cell_type": "code",
   "execution_count": 34,
   "metadata": {},
   "outputs": [
    {
     "data": {
      "text/html": [
       "<pre style=\"word-wrap: normal;white-space: pre;background: #fff0;line-height: 1.1;font-family: &quot;Courier New&quot;,Courier,monospace\">     ┌───┐     ┌─┐   \n",
       "  y: ┤ H ├──■──┤M├───\n",
       "     └───┘┌─┴─┐└╥┘┌─┐\n",
       "  x: ─────┤ X ├─╫─┤M├\n",
       "          └───┘ ║ └╥┘\n",
       "b: 1/═══════════╩══╬═\n",
       "                0  ║ \n",
       "a: 1/══════════════╩═\n",
       "                   0 </pre>"
      ],
      "text/plain": [
       "     ┌───┐     ┌─┐   \n",
       "  y: ┤ H ├──■──┤M├───\n",
       "     └───┘┌─┴─┐└╥┘┌─┐\n",
       "  x: ─────┤ X ├─╫─┤M├\n",
       "          └───┘ ║ └╥┘\n",
       "b: 1/═══════════╩══╬═\n",
       "                0  ║ \n",
       "a: 1/══════════════╩═\n",
       "                   0 "
      ]
     },
     "metadata": {},
     "output_type": "display_data"
    }
   ],
   "source": [
    "from qiskit import QuantumCircuit, QuantumRegister, ClassicalRegister\n",
    "\n",
    "X = QuantumRegister(1, \"x\")\n",
    "Y = QuantumRegister(1, \"y\")\n",
    "A = ClassicalRegister(1, \"a\")\n",
    "B = ClassicalRegister(1, \"b\")\n",
    "\n",
    "qc = QuantumCircuit(Y,X,B,A)\n",
    "qc.h(Y)\n",
    "qc.cx(Y,X)\n",
    "\n",
    "qc.measure(Y,B)\n",
    "qc.measure(X,A)\n",
    "qc.draw()"
   ]
  },
  {
   "cell_type": "code",
   "execution_count": 39,
   "metadata": {},
   "outputs": [
    {
     "data": {
      "image/png": "[encoded data removed]",
      "text/plain": [
       "<Figure size 700x500 with 1 Axes>"
      ]
     },
     "execution_count": 39,
     "metadata": {},
     "output_type": "execute_result"
    }
   ],
   "source": [
    "from qiskit import transpile\n",
    "from qiskit_aer import AerSimulator\n",
    "\n",
    "simulator = AerSimulator()\n",
    "qc_simulator = simulator.run(transpile(qc,simulator), shots=1000)\n",
    "statistics = qc_simulator.result().get_counts()\n",
    "plot_histogram(statistics)"
   ]
  },
  {
   "attachments": {},
   "cell_type": "markdown",
   "metadata": {},
   "source": [
    "Another way to run a quantum circuit that returns a counts dictionary of measurement outcomes."
   ]
  },
  {
   "cell_type": "code",
   "execution_count": 37,
   "metadata": {},
   "outputs": [
    {
     "data": {
      "image/png": "[encoded data removed]",
      "text/plain": [
       "<Figure size 700x500 with 1 Axes>"
      ]
     },
     "execution_count": 37,
     "metadata": {},
     "output_type": "execute_result"
    }
   ],
   "source": [
    "# Circuit\n",
    "circ = QuantumCircuit(2)\n",
    "circ.h(0)\n",
    "circ.cx(0, 1)\n",
    "circ.measure_all()\n",
    "\n",
    "from qiskit import Aer\n",
    "# Transpile for simulator\n",
    "simulator = Aer.get_backend('aer_simulator')\n",
    "circ = transpile(circ, simulator)\n",
    "\n",
    "# Run and get counts\n",
    "result = simulator.run(circ).result()\n",
    "counts = result.get_counts(circ)\n",
    "plot_histogram(counts, title='Bell-State counts')"
   ]
  },
  {
   "attachments": {},
   "cell_type": "markdown",
   "metadata": {},
   "source": [
    "The `QasmSimulator` also supports returning a list of measurement outcomes for each individual shot. This is enabled by setting the keyword argument `memory=True` in the `run`."
   ]
  },
  {
   "cell_type": "code",
   "execution_count": 40,
   "metadata": {},
   "outputs": [
    {
     "data": {
      "text/plain": [
       "['11', '11', '11', '00', '00', '11', '11', '11', '00', '00']"
      ]
     },
     "execution_count": 40,
     "metadata": {},
     "output_type": "execute_result"
    }
   ],
   "source": [
    "# Run and get memory\n",
    "result = simulator.run(circ, shots=10, memory=True).result()\n",
    "memory = result.get_memory(circ)\n",
    "memory"
   ]
  },
  {
   "attachments": {},
   "cell_type": "markdown",
   "metadata": {},
   "source": [
    "The `Aer` provider contains a variety of high performance simulator backends for a variety of simulation methods. The available backends on the current system can be viewed using `Aer.backends()`. Here is some more information on the types of Aer simulators https://medium.com/qiskit/qiskit-aer-d09d0fac7759 "
   ]
  },
  {
   "cell_type": "code",
   "execution_count": 41,
   "metadata": {},
   "outputs": [
    {
     "data": {
      "text/plain": [
       "[AerSimulator('aer_simulator'),\n",
       " AerSimulator('aer_simulator_statevector'),\n",
       " AerSimulator('aer_simulator_density_matrix'),\n",
       " AerSimulator('aer_simulator_stabilizer'),\n",
       " AerSimulator('aer_simulator_matrix_product_state'),\n",
       " AerSimulator('aer_simulator_extended_stabilizer'),\n",
       " AerSimulator('aer_simulator_unitary'),\n",
       " AerSimulator('aer_simulator_superop'),\n",
       " QasmSimulator('qasm_simulator'),\n",
       " StatevectorSimulator('statevector_simulator'),\n",
       " UnitarySimulator('unitary_simulator'),\n",
       " PulseSimulator('pulse_simulator')]"
      ]
     },
     "execution_count": 41,
     "metadata": {},
     "output_type": "execute_result"
    }
   ],
   "source": [
    "Aer.backends()"
   ]
  },
  {
   "attachments": {},
   "cell_type": "markdown",
   "metadata": {},
   "source": [
    "### Inner Products, Orthonormality, and Projections\n",
    "\n",
    "To better prepare ourselves to explore the capabilities and limitations of quantum circuits, we now introduce some additional mathematical concepts — namely the *inner product* between vectors (and its connection to the Euclidean norm), the notions of *orthogonality* and *orthonormality* for sets of vectors, and *projection* matrices, which will allow us to introduce a handy generalization of standard basis measurements.\n",
    "\n",
    "#### Inner Products\n",
    "\n",
    "An arbitrary column vector is written as a ket $|\\psi \\rangle$. The corresponding bra vector is the *conjugate transpose* of this vector and written as $\\langle \\psi |$. Using the classical state $\\Sigma$ in mind, we can write $|\\psi \\rangle$ and $\\langle \\psi |$ as $$ | \\psi \\rangle = \\sum_{a\\in \\Sigma} \\alpha_a |a\\rangle \\quad \\text{and} \\quad  \\langle \\psi | = \\sum_{a\\in \\Sigma} \\overline{\\alpha_a} \\langle a |.$$ \n",
    "The *inner product* of $|\\psi \\rangle =\\sum_{a\\in \\Sigma} \\alpha_a |a\\rangle $ and $|\\phi \\rangle = \\sum_{b\\in \\Sigma} \\beta_b |b\\rangle $ is given by $$ \\langle \\psi | \\phi \\rangle = \\sum_{a\\in \\Sigma} \\overline{\\alpha_a} \\beta_a. $$\n",
    "Let us now collect together some basic facts about inner products of vectors.\n",
    "\n",
    "- Relationship to the Euclidean norm: $ \\langle \\psi |\\psi \\rangle = \\sum_{a\\in \\Sigma} \\overline{\\alpha_a} \\alpha_a = \\sum{a\\in \\Sigma} |\\alpha_a|^2 = \\| |\\psi \\rangle \\|^2$.\n",
    "- Conjugate symmetry: $\\overline{\\langle \\psi | \\phi \\rangle} = \\langle \\phi | \\psi \\rangle $.\n",
    "- Linearity (conjugate linearity): Let $|\\psi \\rangle = \\alpha_1 |\\psi_1 \\rangle + \\alpha_2 |\\psi_2 \\rangle$ and $| \\phi \\rangle = \\beta_1 |\\phi_1 \\rangle + \\beta_2 |\\phi_2 \\rangle$. Then $$ \\langle \\psi | \\phi \\rangle = \\overline{\\alpha_1} \\langle \\psi_1|\\phi \\rangle + \\overline{\\alpha_2} \\langle \\psi_2|\\phi \\rangle $$ \n",
    "$$\\langle \\psi | \\phi \\rangle = \\beta_1 \\langle \\psi |\\phi_1 \\rangle + \\beta_2 \\langle \\psi |\\phi_2 \\rangle $$\n",
    "- The Cauchy–Schwarz inequality: $\\langle \\psi | \\phi \\rangle \\le \\| | \\psi \\rangle \\| \\| | \\phi \\rangle \\| $."
   ]
  },
  {
   "attachments": {},
   "cell_type": "markdown",
   "metadata": {},
   "source": [
    "#### Orthogonal and Orthonormal Sets\n",
    "\n",
    "Two vectors $|\\phi \\rangle$ and $|\\psi \\rangle$ are *orthogonal* if their inner product is zero: $\\langle \\psi |\\phi \\rangle = 0$. A set of vectors $\\{ |\\phi_1 \\rangle ,|\\phi_2 \\rangle, \\dots ,|\\phi_n \\rangle  \\}$ is an *orthogonal set* if $\\langle \\phi_i |\\phi_j \\rangle = 0$ for all $i\\neq j$. The set is *orthonormal* if $$ \\langle \\phi_i |\\phi_j \\rangle = \\begin{cases} 1 & i=j \\\\ 0 & i\\neq j \\end{cases}$$ for all $i,j=1,2\\dots ,n$.\n",
    "\n",
    "A set of vectors $\\{ |\\phi_1 \\rangle ,|\\phi_2 \\rangle, \\dots ,|\\phi_n \\rangle  \\}$ is an *orthonormal basis* if the set is *orthonormal* and forms a basis. For example for any classical state set $\\Sigma$, the set of all standard basis vectors $\\{ |a\\rangle : a\\in \\Sigma \\}$ is an orthonormal basis."
   ]
  },
  {
   "cell_type": "code",
   "execution_count": null,
   "metadata": {},
   "outputs": [],
   "source": []
  }
 ],
 "metadata": {
  "kernelspec": {
   "display_name": "Quantum",
   "language": "python",
   "name": "python3"
  },
  "language_info": {
   "codemirror_mode": {
    "name": "ipython",
    "version": 3
   },
   "file_extension": ".py",
   "mimetype": "text/x-python",
   "name": "python",
   "nbconvert_exporter": "python",
   "pygments_lexer": "ipython3",
   "version": "3.10.9"
  },
  "orig_nbformat": 4
 },
 "nbformat": 4,
 "nbformat_minor": 2
}
