{
 "cells": [
  {
   "attachments": {},
   "cell_type": "markdown",
   "metadata": {},
   "source": [
    "# Quantum Entanglement\n",
    "\n",
    "## Teleportation\n",
    "\n",
    "*Quantum teleportation*, or just teleportation for short, is a protocol where a sender (Alice) transmits a qubit to a receiver (Bob) by making use of a shared entangled quantum state (one *e-bit*, to be specific) along with two bits of classical communication. We assume that Alice and Bob share an *e-bit*: Alice holds a qubit $A$, Bob holds a qubit $B$, and together the pair $(A,B)$ is in the state $| \\phi^{+} \\rangle$. Alice then comes into possession of a third qubit $Q$ that she wishes to transmit to Bob. The state of the qubit $Q$ is considered to be unknown to Alice and Bob, and no assumptions are made about it. \n",
    "\n",
    "Here is a quantum circuit diagram that describes the teleportation protocol:\n",
    "![teleportation protocol](teleportation.png)\n",
    "\n",
    "In words, the teleportation protocol is as follows:\n",
    "\n",
    "1. Alice performs a controlled-NOT operation on the pair $(A,Q)$, with $Q$ being the control and $A$ being the target, and then performs a Hadamard operation on $Q$.\n",
    "\n",
    "2. Alice then measures both $A$ and $Q$, with respect to a standard basis measurement in both cases, and transmits the classical outcomes to Bob. Let us refer to the outcome of the measurement of $A$ as $a$ and the outcome of the measurement of $Q$ as $q$.\n",
    "\n",
    "3. Bob receives $a$ and $q$ from Alice, and depending on the values of these bits he performs these operations:\n",
    "\n",
    "- If $a=1$, then Bob performs a bit flip (or $X$ gate) on his qubit $B$.\n",
    "- If $q=1$, then Bob performs a phase flip (or $Z$ gate) on his qubit $B$.\n",
    "\n",
    "That is, conditioned on $aq$ being $00$, $01$, $10$, or $11$, Bob performs one of the operations $\\mathbb{1}$, $Z$, $X$ or $ZX$ on the qubit $B$.\n",
    "\n",
    "Here is a quantum circuit implementation of the teleportation protocol."
   ]
  },
  {
   "cell_type": "code",
   "execution_count": 1,
   "metadata": {},
   "outputs": [
    {
     "data": {
      "text/html": [
       "<pre style=\"word-wrap: normal;white-space: pre;background: #fff0;line-height: 1.1;font-family: &quot;Courier New&quot;,Courier,monospace\">              ░      ┌───┐ ░    ┌─┐ ░                         \n",
       "Q: ───────────░───■──┤ H ├─░────┤M├─░─────────────────────────\n",
       "   ┌───┐      ░ ┌─┴─┐└───┘ ░ ┌─┐└╥┘ ░                         \n",
       "A: ┤ H ├──■───░─┤ X ├──────░─┤M├─╫──░─────────────────────────\n",
       "   └───┘┌─┴─┐ ░ └───┘      ░ └╥┘ ║  ░ ┌──────────┐┌──────────┐\n",
       "B: ─────┤ X ├─░────────────░──╫──╫──░─┤0         ├┤0         ├\n",
       "        └───┘ ░            ░  ║  ║  ░ │  If_else ││          │\n",
       "a: ═══════════════════════════╩══╬════╡0         ╞╡          ╞\n",
       "                                 ║    └──────────┘│          │\n",
       "q: ══════════════════════════════╩════════════════╡0         ╞\n",
       "                                                  └──────────┘</pre>"
      ],
      "text/plain": [
       "              ░      ┌───┐ ░    ┌─┐ ░                         \n",
       "Q: ───────────░───■──┤ H ├─░────┤M├─░─────────────────────────\n",
       "   ┌───┐      ░ ┌─┴─┐└───┘ ░ ┌─┐└╥┘ ░                         \n",
       "A: ┤ H ├──■───░─┤ X ├──────░─┤M├─╫──░─────────────────────────\n",
       "   └───┘┌─┴─┐ ░ └───┘      ░ └╥┘ ║  ░ ┌──────────┐┌──────────┐\n",
       "B: ─────┤ X ├─░────────────░──╫──╫──░─┤0         ├┤0         ├\n",
       "        └───┘ ░            ░  ║  ║  ░ │  If_else ││          │\n",
       "a: ═══════════════════════════╩══╬════╡0         ╞╡          ╞\n",
       "                                 ║    └──────────┘│          │\n",
       "q: ══════════════════════════════╩════════════════╡0         ╞\n",
       "                                                  └──────────┘"
      ]
     },
     "execution_count": 1,
     "metadata": {},
     "output_type": "execute_result"
    }
   ],
   "source": [
    "from qiskit import QuantumCircuit, QuantumRegister, ClassicalRegister\n",
    "\n",
    "Q = QuantumRegister(1, \"Q\")\n",
    "A = QuantumRegister(1, \"A\")\n",
    "B = QuantumRegister(1, \"B\")\n",
    "a = ClassicalRegister(1, \"a\")\n",
    "q = ClassicalRegister(1, \"q\")\n",
    "\n",
    "protocol = QuantumCircuit(Q,A,B,a,q)\n",
    "\n",
    "# Preparation of ebit for teleportation\n",
    "protocol.h(A)\n",
    "protocol.cx(A, B)\n",
    "protocol.barrier()\n",
    "\n",
    "# Alice's operations\n",
    "protocol.cx(Q, A)\n",
    "protocol.h(Q)\n",
    "protocol.barrier()\n",
    "\n",
    "# Alice's measurements sends classical bits to Bob\n",
    "protocol.measure(A, a)\n",
    "protocol.measure(Q, q)\n",
    "protocol.barrier()\n",
    "\n",
    "# Bob uses a and q to apply gates\n",
    "\n",
    "with protocol.if_test((a,1)):\n",
    "    protocol.x(B)\n",
    "with protocol.if_test((q,1)):\n",
    "    protocol.z(B)\n",
    "\n",
    "#result = ClassicalRegister(1, \"Result\")\n",
    "#protocol.add_register(result)\n",
    "#protocol.measure(B, result)\n",
    "\n",
    "protocol.draw()"
   ]
  },
  {
   "attachments": {},
   "cell_type": "markdown",
   "metadata": {},
   "source": [
    "Finally let's run the Aer simulator on this circuit and plot a histogram of the outputs."
   ]
  },
  {
   "cell_type": "code",
   "execution_count": 2,
   "metadata": {},
   "outputs": [
    {
     "data": {
      "image/png": "[encoded data removed]",
      "text/plain": [
       "<Figure size 700x500 with 1 Axes>"
      ]
     },
     "execution_count": 2,
     "metadata": {},
     "output_type": "execute_result"
    }
   ],
   "source": [
    "from qiskit_aer import AerSimulator\n",
    "from qiskit.visualization import plot_histogram\n",
    "\n",
    "counts = AerSimulator().run(protocol).result().get_counts()\n",
    "plot_histogram(counts)"
   ]
  },
  {
   "attachments": {},
   "cell_type": "markdown",
   "metadata": {},
   "source": [
    "We can also filter the counts to focus just on the test result qubit if we wish, like this:"
   ]
  },
  {
   "cell_type": "code",
   "execution_count": 3,
   "metadata": {},
   "outputs": [
    {
     "data": {
      "image/png": "[encoded data removed]",
      "text/plain": [
       "<Figure size 700x500 with 1 Axes>"
      ]
     },
     "execution_count": 3,
     "metadata": {},
     "output_type": "execute_result"
    }
   ],
   "source": [
    "filtered_counts = {\"0\": 0, \"1\": 0}\n",
    "\n",
    "for result, frequency in counts.items():\n",
    "    filtered_counts[result[0]] += frequency\n",
    "\n",
    "plot_histogram(filtered_counts)"
   ]
  },
  {
   "attachments": {},
   "cell_type": "markdown",
   "metadata": {},
   "source": [
    "Let us redefine the above quantum circuit again."
   ]
  },
  {
   "cell_type": "code",
   "execution_count": 4,
   "metadata": {},
   "outputs": [
    {
     "data": {
      "text/html": [
       "<pre style=\"word-wrap: normal;white-space: pre;background: #fff0;line-height: 1.1;font-family: &quot;Courier New&quot;,Courier,monospace\">              ░      ┌───┐ ░    ┌─┐ ░                         \n",
       "Q: ───────────░───■──┤ H ├─░────┤M├─░─────────────────────────\n",
       "   ┌───┐      ░ ┌─┴─┐└───┘ ░ ┌─┐└╥┘ ░                         \n",
       "A: ┤ H ├──■───░─┤ X ├──────░─┤M├─╫──░─────────────────────────\n",
       "   └───┘┌─┴─┐ ░ └───┘      ░ └╥┘ ║  ░ ┌──────────┐┌──────────┐\n",
       "B: ─────┤ X ├─░────────────░──╫──╫──░─┤0         ├┤0         ├\n",
       "        └───┘ ░            ░  ║  ║  ░ │  If_else ││          │\n",
       "a: ═══════════════════════════╩══╬════╡0         ╞╡          ╞\n",
       "                                 ║    └──────────┘│          │\n",
       "b: ══════════════════════════════╩════════════════╡0         ╞\n",
       "                                                  └──────────┘</pre>"
      ],
      "text/plain": [
       "              ░      ┌───┐ ░    ┌─┐ ░                         \n",
       "Q: ───────────░───■──┤ H ├─░────┤M├─░─────────────────────────\n",
       "   ┌───┐      ░ ┌─┴─┐└───┘ ░ ┌─┐└╥┘ ░                         \n",
       "A: ┤ H ├──■───░─┤ X ├──────░─┤M├─╫──░─────────────────────────\n",
       "   └───┘┌─┴─┐ ░ └───┘      ░ └╥┘ ║  ░ ┌──────────┐┌──────────┐\n",
       "B: ─────┤ X ├─░────────────░──╫──╫──░─┤0         ├┤0         ├\n",
       "        └───┘ ░            ░  ║  ║  ░ │  If_else ││          │\n",
       "a: ═══════════════════════════╩══╬════╡0         ╞╡          ╞\n",
       "                                 ║    └──────────┘│          │\n",
       "b: ══════════════════════════════╩════════════════╡0         ╞\n",
       "                                                  └──────────┘"
      ]
     },
     "execution_count": 4,
     "metadata": {},
     "output_type": "execute_result"
    }
   ],
   "source": [
    "qubit = QuantumRegister(1, \"Q\")\n",
    "ebit0 = QuantumRegister(1, \"A\")\n",
    "ebit1 = QuantumRegister(1, \"B\")\n",
    "a = ClassicalRegister(1, \"a\")\n",
    "b = ClassicalRegister(1, \"b\")\n",
    "\n",
    "protocol = QuantumCircuit(qubit, ebit0, ebit1, a, b)\n",
    "\n",
    "# Prepare ebit used for teleportation\n",
    "protocol.h(ebit0)\n",
    "protocol.cx(ebit0, ebit1)\n",
    "protocol.barrier()\n",
    "\n",
    "# Alice's operations\n",
    "protocol.cx(qubit, ebit0)\n",
    "protocol.h(qubit)\n",
    "protocol.barrier()\n",
    "\n",
    "# Alice measures and sends classical bits to Bob\n",
    "protocol.measure(ebit0, a)\n",
    "protocol.measure(qubit, b)\n",
    "protocol.barrier()\n",
    "\n",
    "# Bob uses the classical bits to conditionally apply gates\n",
    "with protocol.if_test((a, 1)):\n",
    "    protocol.x(ebit1)\n",
    "with protocol.if_test((b, 1)):\n",
    "    protocol.z(ebit1)\n",
    "\n",
    "protocol.draw()"
   ]
  },
  {
   "attachments": {},
   "cell_type": "markdown",
   "metadata": {},
   "source": [
    "To test that the protocol works correctly, let's check that it correctly teleports half of an entangled pair. We can do this by creating a new circuit including a qubit $R$, composing it with our protocol, and then adding gates and measurements to perform the test."
   ]
  },
  {
   "cell_type": "code",
   "execution_count": 5,
   "metadata": {},
   "outputs": [
    {
     "data": {
      "text/html": [
       "<pre style=\"word-wrap: normal;white-space: pre;background: #fff0;line-height: 1.1;font-family: &quot;Courier New&quot;,Courier,monospace\">             ┌───┐      ░                                                »\n",
       "          R: ┤ H ├──■───░────────────────────────────────────────────────»\n",
       "             └───┘┌─┴─┐ ░            ░      ┌───┐ ░    ┌─┐ ░             »\n",
       "          Q: ─────┤ X ├─░────────────░───■──┤ H ├─░────┤M├─░─────────────»\n",
       "                  └───┘ ░ ┌───┐      ░ ┌─┴─┐└───┘ ░ ┌─┐└╥┘ ░             »\n",
       "          A: ───────────░─┤ H ├──■───░─┤ X ├──────░─┤M├─╫──░─────────────»\n",
       "                        ░ └───┘┌─┴─┐ ░ └───┘      ░ └╥┘ ║  ░ ┌──────────┐»\n",
       "          B: ───────────░──────┤ X ├─░────────────░──╫──╫──░─┤0         ├»\n",
       "                        ░      └───┘ ░            ░  ║  ║  ░ │  If_else │»\n",
       "          a: ════════════════════════════════════════╩══╬════╡0         ╞»\n",
       "                                                        ║    └──────────┘»\n",
       "          b: ═══════════════════════════════════════════╩════════════════»\n",
       "                                                                         »\n",
       "Test result: ════════════════════════════════════════════════════════════»\n",
       "                                                                         »\n",
       "«                          ░      ┌───┐┌─┐\n",
       "«          R: ─────────────░───■──┤ H ├┤M├\n",
       "«                          ░   │  └───┘└╥┘\n",
       "«          Q: ─────────────░───┼────────╫─\n",
       "«                          ░   │        ║ \n",
       "«          A: ─────────────░───┼────────╫─\n",
       "«             ┌──────────┐ ░ ┌─┴─┐      ║ \n",
       "«          B: ┤0         ├─░─┤ X ├──────╫─\n",
       "«             │          │ ░ └───┘      ║ \n",
       "«          a: ╡          ╞══════════════╬═\n",
       "«             │          │              ║ \n",
       "«          b: ╡0         ╞══════════════╬═\n",
       "«             └──────────┘              ║ \n",
       "«Test result: ══════════════════════════╩═\n",
       "«                                         </pre>"
      ],
      "text/plain": [
       "             ┌───┐      ░                                                »\n",
       "          R: ┤ H ├──■───░────────────────────────────────────────────────»\n",
       "             └───┘┌─┴─┐ ░            ░      ┌───┐ ░    ┌─┐ ░             »\n",
       "          Q: ─────┤ X ├─░────────────░───■──┤ H ├─░────┤M├─░─────────────»\n",
       "                  └───┘ ░ ┌───┐      ░ ┌─┴─┐└───┘ ░ ┌─┐└╥┘ ░             »\n",
       "          A: ───────────░─┤ H ├──■───░─┤ X ├──────░─┤M├─╫──░─────────────»\n",
       "                        ░ └───┘┌─┴─┐ ░ └───┘      ░ └╥┘ ║  ░ ┌──────────┐»\n",
       "          B: ───────────░──────┤ X ├─░────────────░──╫──╫──░─┤0         ├»\n",
       "                        ░      └───┘ ░            ░  ║  ║  ░ │  If_else │»\n",
       "          a: ════════════════════════════════════════╩══╬════╡0         ╞»\n",
       "                                                        ║    └──────────┘»\n",
       "          b: ═══════════════════════════════════════════╩════════════════»\n",
       "                                                                         »\n",
       "Test result: ════════════════════════════════════════════════════════════»\n",
       "                                                                         »\n",
       "«                          ░      ┌───┐┌─┐\n",
       "«          R: ─────────────░───■──┤ H ├┤M├\n",
       "«                          ░   │  └───┘└╥┘\n",
       "«          Q: ─────────────░───┼────────╫─\n",
       "«                          ░   │        ║ \n",
       "«          A: ─────────────░───┼────────╫─\n",
       "«             ┌──────────┐ ░ ┌─┴─┐      ║ \n",
       "«          B: ┤0         ├─░─┤ X ├──────╫─\n",
       "«             │          │ ░ └───┘      ║ \n",
       "«          a: ╡          ╞══════════════╬═\n",
       "«             │          │              ║ \n",
       "«          b: ╡0         ╞══════════════╬═\n",
       "«             └──────────┘              ║ \n",
       "«Test result: ══════════════════════════╩═\n",
       "«                                         "
      ]
     },
     "metadata": {},
     "output_type": "display_data"
    }
   ],
   "source": [
    "# Create a new circuit including the same bits and qubits used in the\n",
    "# teleportation protocol, along with a new \"auxiliary\" qubit R.\n",
    "aux = QuantumRegister(1, \"R\")\n",
    "test = QuantumCircuit(aux, qubit, ebit0, ebit1, a, b)\n",
    "\n",
    "# Entangle Q with R\n",
    "test.h(aux)\n",
    "test.cx(aux, qubit)\n",
    "test.barrier()\n",
    "\n",
    "# Append the protocol the circuit. The 'qubits' argument tells Qiskit that\n",
    "# the protocol should operate on the qubits numbered 1, 2, and 3 (skipping\n",
    "# qubit 0, which is R).\n",
    "test = test.compose(protocol, qubits=[1, 2, 3])\n",
    "test.barrier()\n",
    "\n",
    "# After the protocol runs, check that (B,R) is in a phi+ state. We can add\n",
    "# a new classical bit to the circuit to do this.\n",
    "test.cx(aux, ebit1)\n",
    "test.h(aux)\n",
    "result = ClassicalRegister(1, \"Test result\")\n",
    "test.add_register(result)\n",
    "test.measure(aux, result)\n",
    "\n",
    "display(test.draw())"
   ]
  },
  {
   "cell_type": "code",
   "execution_count": 6,
   "metadata": {},
   "outputs": [
    {
     "data": {
      "image/png": "[encoded data removed]",
      "text/plain": [
       "<Figure size 700x500 with 1 Axes>"
      ]
     },
     "execution_count": 6,
     "metadata": {},
     "output_type": "execute_result"
    }
   ],
   "source": [
    "from qiskit_aer import AerSimulator\n",
    "from qiskit.visualization import plot_histogram\n",
    "\n",
    "counts = AerSimulator().run(test).result().get_counts()\n",
    "plot_histogram(counts)"
   ]
  },
  {
   "attachments": {},
   "cell_type": "markdown",
   "metadata": {},
   "source": [
    "### Superdense Coding\n",
    "\n",
    "Superdense coding is a protocol that, in some sense, achieves a complementary aim to teleportation. Rather than allowing for the transmission of one qubit using two classical bits of communication (at the cost of one e-bit of entanglement), it allows for the transmission of two classical bits using one qubit of quantum communication (again, at the cost of one e-bit of entanglement).\n",
    "\n",
    "In greater detail, we have a sender (Alice) and a receiver (Bob) that share one e-bit of entanglement. According to the conventions in place for the lesson, this means that Alice holds a qubit $A$, Bob holds a qubit $B$, and together the pair $(A,B)$ is in the state $|\\phi^+ \\rangle$. Alice wishes to transmit two classical bits to Bob, to be denoted by $a$ and $b$, and she will accomplish this by sending him one qubit.\n",
    "\n",
    "The following quantum circuit diagram describes the superdense coding protocol:\n",
    "\n",
    "![Superdense coding](superdense-coding.png)\n",
    "\n",
    "In words, here is what Alice does:\n",
    "\n",
    "1. Alice first checks to see if $b=1$. If $b=1$, she performs a $Z$ gate on her qubit $A$ (and if $b=0$ she does not).\n",
    "\n",
    "2. Alice then checks to see if $a=1$. If $a=1$, she performs an $X$ gate on her qubit $A$ (and if $a=0$ she does not).\n",
    "\n",
    "Alice then sends her qubit $A$ to Bob.\n",
    "\n",
    "What Bob does when he receives the qubit $A$ is to first perform a controlled-NOT gate, with $A$ being the control and $B$ being the target, and then he applies a Hadamard gate to $A$. He then measures $B$ to obtain $a$ and $A$ to obtain $b$, with standard basis measurements in both cases.\n",
    "\n",
    "Here is a simple implementation of superdense coding where we specify the circuit itself depending on the bits to be transmitted."
   ]
  },
  {
   "cell_type": "code",
   "execution_count": 7,
   "metadata": {},
   "outputs": [],
   "source": [
    "a = \"0\"\n",
    "b=  \"0\""
   ]
  },
  {
   "cell_type": "code",
   "execution_count": 8,
   "metadata": {},
   "outputs": [
    {
     "data": {
      "text/html": [
       "<pre style=\"word-wrap: normal;white-space: pre;background: #fff0;line-height: 1.1;font-family: &quot;Courier New&quot;,Courier,monospace\">        ┌───┐      ░  ░      ┌───┐ ░ ┌─┐   \n",
       "     A: ┤ H ├──■───░──░───■──┤ H ├─░─┤M├───\n",
       "        └───┘┌─┴─┐ ░  ░ ┌─┴─┐└───┘ ░ └╥┘┌─┐\n",
       "     B: ─────┤ X ├─░──░─┤ X ├──────░──╫─┤M├\n",
       "             └───┘ ░  ░ └───┘      ░  ║ └╥┘\n",
       "meas: 2/══════════════════════════════╩══╩═\n",
       "                                      0  1 </pre>"
      ],
      "text/plain": [
       "        ┌───┐      ░  ░      ┌───┐ ░ ┌─┐   \n",
       "     A: ┤ H ├──■───░──░───■──┤ H ├─░─┤M├───\n",
       "        └───┘┌─┴─┐ ░  ░ ┌─┴─┐└───┘ ░ └╥┘┌─┐\n",
       "     B: ─────┤ X ├─░──░─┤ X ├──────░──╫─┤M├\n",
       "             └───┘ ░  ░ └───┘      ░  ║ └╥┘\n",
       "meas: 2/══════════════════════════════╩══╩═\n",
       "                                      0  1 "
      ]
     },
     "execution_count": 8,
     "metadata": {},
     "output_type": "execute_result"
    }
   ],
   "source": [
    "A = QuantumRegister(1, \"A\")\n",
    "B = QuantumRegister(1, \"B\")\n",
    "\n",
    "protocol = QuantumCircuit(A, B)\n",
    "\n",
    "# prepare the e-bit\n",
    "\n",
    "protocol.h(A)\n",
    "protocol.cx(A,B)\n",
    "protocol.barrier()\n",
    "\n",
    "# Alice's operations\n",
    "if b==\"1\":\n",
    "    protocol.z(A)\n",
    "if a==\"1\":\n",
    "    protocol.x(A)\n",
    "\n",
    "protocol.barrier()\n",
    "\n",
    "# Bob's actions\n",
    "protocol.cx(A,B)\n",
    "protocol.h(A)\n",
    "protocol.measure_all()\n",
    "\n",
    "protocol.draw()"
   ]
  },
  {
   "cell_type": "code",
   "execution_count": 9,
   "metadata": {},
   "outputs": [
    {
     "name": "stdout",
     "output_type": "stream",
     "text": [
      "Measured 00 with frequency 1024\n"
     ]
    },
    {
     "data": {
      "image/png": "[encoded data removed]",
      "text/plain": [
       "<Figure size 700x500 with 1 Axes>"
      ]
     },
     "execution_count": 9,
     "metadata": {},
     "output_type": "execute_result"
    }
   ],
   "source": [
    "counts = AerSimulator().run(protocol).result().get_counts()\n",
    "for outcome, frequency in counts.items():\n",
    "    print(f\"Measured {outcome} with frequency {frequency}\")\n",
    "plot_histogram(counts)"
   ]
  },
  {
   "attachments": {},
   "cell_type": "markdown",
   "metadata": {},
   "source": [
    "Just for fun, we can use an additional qubit as a random bit generator to randomly choose $a$ and $b$, then run the superdense coding protocol to see that these bits are transmitted correctly."
   ]
  },
  {
   "cell_type": "code",
   "execution_count": 10,
   "metadata": {},
   "outputs": [
    {
     "data": {
      "text/html": [
       "<pre style=\"word-wrap: normal;white-space: pre;background: #fff0;line-height: 1.1;font-family: &quot;Courier New&quot;,Courier,monospace\">                       ░ ┌───┐┌─┐┌───┐┌─┐ ░              ░            ░       \n",
       "randomizer: ───────────░─┤ H ├┤M├┤ H ├┤M├─░──────────────░────────────░───────\n",
       "            ┌───┐      ░ └───┘└╥┘└───┘└╥┘ ░ ┌────┐┌────┐ ░      ┌───┐ ░    ┌─┐\n",
       "         A: ┤ H ├──■───░───────╫───────╫──░─┤0   ├┤0   ├─░───■──┤ H ├─░────┤M├\n",
       "            └───┘┌─┴─┐ ░       ║       ║  ░ │    ││    │ ░ ┌─┴─┐└───┘ ░ ┌─┐└╥┘\n",
       "         B: ─────┤ X ├─░───────╫───────╫──░─┤  Z ├┤    ├─░─┤ X ├──────░─┤M├─╫─\n",
       "                 └───┘ ░       ║       ║  ░ │    ││  X │ ░ └───┘      ░ └╥┘ ║ \n",
       "   Alice b: ═══════════════════╬═══════╩════╡0   ╞╡    ╞═════════════════╬══╬═\n",
       "                               ║            └────┘│    │                 ║  ║ \n",
       "   Alice a: ═══════════════════╩══════════════════╡0   ╞═════════════════╬══╬═\n",
       "                                                  └────┘                 ║  ║ \n",
       "     Bob b: ═════════════════════════════════════════════════════════════╬══╩═\n",
       "                                                                         ║    \n",
       "     Bob a: ═════════════════════════════════════════════════════════════╩════\n",
       "                                                                              </pre>"
      ],
      "text/plain": [
       "                       ░ ┌───┐┌─┐┌───┐┌─┐ ░              ░            ░       \n",
       "randomizer: ───────────░─┤ H ├┤M├┤ H ├┤M├─░──────────────░────────────░───────\n",
       "            ┌───┐      ░ └───┘└╥┘└───┘└╥┘ ░ ┌────┐┌────┐ ░      ┌───┐ ░    ┌─┐\n",
       "         A: ┤ H ├──■───░───────╫───────╫──░─┤0   ├┤0   ├─░───■──┤ H ├─░────┤M├\n",
       "            └───┘┌─┴─┐ ░       ║       ║  ░ │    ││    │ ░ ┌─┴─┐└───┘ ░ ┌─┐└╥┘\n",
       "         B: ─────┤ X ├─░───────╫───────╫──░─┤  Z ├┤    ├─░─┤ X ├──────░─┤M├─╫─\n",
       "                 └───┘ ░       ║       ║  ░ │    ││  X │ ░ └───┘      ░ └╥┘ ║ \n",
       "   Alice b: ═══════════════════╬═══════╩════╡0   ╞╡    ╞═════════════════╬══╬═\n",
       "                               ║            └────┘│    │                 ║  ║ \n",
       "   Alice a: ═══════════════════╩══════════════════╡0   ╞═════════════════╬══╬═\n",
       "                                                  └────┘                 ║  ║ \n",
       "     Bob b: ═════════════════════════════════════════════════════════════╬══╩═\n",
       "                                                                         ║    \n",
       "     Bob a: ═════════════════════════════════════════════════════════════╩════\n",
       "                                                                              "
      ]
     },
     "execution_count": 10,
     "metadata": {},
     "output_type": "execute_result"
    }
   ],
   "source": [
    "rbg = QuantumRegister(1, \"randomizer\")\n",
    "ebit0 = QuantumRegister(1, \"A\")\n",
    "ebit1 = QuantumRegister(1, \"B\")\n",
    "\n",
    "Alice_a = ClassicalRegister(1, \"Alice a\")\n",
    "Alice_b = ClassicalRegister(1, \"Alice b\")\n",
    "\n",
    "test = QuantumCircuit(rbg, ebit0, ebit1, Alice_b, Alice_a)\n",
    "\n",
    "# Initialize the ebit\n",
    "test.h(ebit0)\n",
    "test.cx(ebit0, ebit1)\n",
    "test.barrier()\n",
    "\n",
    "# Use the 'randomizer' qubit twice to generate Alice's bits a and b.\n",
    "test.h(rbg)\n",
    "test.measure(rbg, Alice_a)\n",
    "test.h(rbg)\n",
    "test.measure(rbg, Alice_b)\n",
    "test.barrier()\n",
    "\n",
    "# Now the protocol runs, starting with Alice's actions, which depend\n",
    "# on her bits.\n",
    "with test.if_test((Alice_b, 1), label=\"Z\"):\n",
    "    test.z(ebit0)\n",
    "with test.if_test((Alice_a, 1), label=\"X\"):\n",
    "    test.x(ebit0)\n",
    "test.barrier()\n",
    "\n",
    "# Bob's actions\n",
    "test.cx(ebit0, ebit1)\n",
    "test.h(ebit0)\n",
    "test.barrier()\n",
    "\n",
    "Bob_a = ClassicalRegister(1, \"Bob a\")\n",
    "Bob_b = ClassicalRegister(1, \"Bob b\")\n",
    "test.add_register(Bob_b)\n",
    "test.add_register(Bob_a)\n",
    "test.measure(ebit1, Bob_a)\n",
    "test.measure(ebit0, Bob_b)\n",
    "\n",
    "test.draw()"
   ]
  },
  {
   "attachments": {},
   "cell_type": "markdown",
   "metadata": {},
   "source": [
    "Running the Aer simulator shows the results: Alice and Bob's classical bits always agree."
   ]
  },
  {
   "cell_type": "code",
   "execution_count": 11,
   "metadata": {},
   "outputs": [
    {
     "data": {
      "image/png": "[encoded data removed]",
      "text/plain": [
       "<Figure size 700x500 with 1 Axes>"
      ]
     },
     "execution_count": 11,
     "metadata": {},
     "output_type": "execute_result"
    }
   ],
   "source": [
    "counts = AerSimulator().run(test).result().get_counts()\n",
    "plot_histogram(counts)"
   ]
  },
  {
   "attachments": {},
   "cell_type": "markdown",
   "metadata": {},
   "source": [
    "### The CHSH game\n",
    "\n",
    "The CHSH game is a mathematical abstraction in the sense of game theory. Mathematical abstractions of games are studied in economics and computer science, for instance, and have great utility."
   ]
  },
  {
   "attachments": {},
   "cell_type": "markdown",
   "metadata": {},
   "source": [
    "We can implement the CHSH game together with the quantum strategy defined above in Qiskit as follows.\n",
    "\n",
    "First, here's the definition of the game itself, which allows an arbitrary strategy to be plugged in as an argument."
   ]
  },
  {
   "cell_type": "code",
   "execution_count": 12,
   "metadata": {},
   "outputs": [],
   "source": [
    "from numpy.random import randint\n",
    "\n",
    "def chsh_game(strategy):\n",
    "    \"\"\"Plays the CHSH game\n",
    "    Args:\n",
    "        strategy (callable): A function that takes two bits (as `int`s) and\n",
    "            returns two bits (also as `int`s). The strategy must follow the\n",
    "            rules of the CHSH game.\n",
    "    Returns:\n",
    "        int: 1 for a win, 0 for a loss.\n",
    "    \"\"\"\n",
    "    # Referee chooses x and y randomly\n",
    "    x, y = randint(0, 2), randint(0, 2)\n",
    "\n",
    "    # Use strategy to choose a and b\n",
    "    a, b = strategy(x, y)\n",
    "\n",
    "    # Referee decides if Alice and Bob win or lose\n",
    "    if (a != b) == (x & y):\n",
    "        return 1  # Win\n",
    "    return 0  # Lose"
   ]
  },
  {
   "cell_type": "code",
   "execution_count": 13,
   "metadata": {},
   "outputs": [],
   "source": [
    "from numpy import pi\n",
    "\n",
    "def chsh_circuit(x, y):\n",
    "    \"\"\"Creates a `QuantumCircuit` that implements the best CHSH strategy.\n",
    "    Args:\n",
    "        x (int): Alice's bit (must be 0 or 1)\n",
    "        y (int): Bob's bit (must be 0 or 1)\n",
    "    Returns:\n",
    "        QuantumCircuit: Circuit that, when run, returns Alice and Bob's\n",
    "            answer bits.\n",
    "    \"\"\"\n",
    "    qc = QuantumCircuit(2, 2)\n",
    "    qc.h(0)\n",
    "    qc.cx(0, 1)\n",
    "    qc.barrier()\n",
    "\n",
    "    # Alice\n",
    "    if x == 0:\n",
    "        qc.ry(0, 0)\n",
    "    else:\n",
    "        qc.ry(-pi / 2, 0)\n",
    "    qc.measure(0, 0)\n",
    "\n",
    "    # Bob\n",
    "    if y == 0:\n",
    "        qc.ry(-pi / 4, 1)\n",
    "    else:\n",
    "        qc.ry(pi / 4, 1)\n",
    "    qc.measure(1, 1)\n",
    "\n",
    "    return qc"
   ]
  },
  {
   "cell_type": "code",
   "execution_count": 14,
   "metadata": {},
   "outputs": [
    {
     "name": "stdout",
     "output_type": "stream",
     "text": [
      "(x,y) = (0,0)\n"
     ]
    },
    {
     "data": {
      "text/html": [
       "<pre style=\"word-wrap: normal;white-space: pre;background: #fff0;line-height: 1.1;font-family: &quot;Courier New&quot;,Courier,monospace\">     ┌───┐      ░  ┌───────┐  ┌─┐   \n",
       "q_0: ┤ H ├──■───░──┤ Ry(0) ├──┤M├───\n",
       "     └───┘┌─┴─┐ ░ ┌┴───────┴─┐└╥┘┌─┐\n",
       "q_1: ─────┤ X ├─░─┤ Ry(-π/4) ├─╫─┤M├\n",
       "          └───┘ ░ └──────────┘ ║ └╥┘\n",
       "c: 2/══════════════════════════╩══╩═\n",
       "                               0  1 </pre>"
      ],
      "text/plain": [
       "     ┌───┐      ░  ┌───────┐  ┌─┐   \n",
       "q_0: ┤ H ├──■───░──┤ Ry(0) ├──┤M├───\n",
       "     └───┘┌─┴─┐ ░ ┌┴───────┴─┐└╥┘┌─┐\n",
       "q_1: ─────┤ X ├─░─┤ Ry(-π/4) ├─╫─┤M├\n",
       "          └───┘ ░ └──────────┘ ║ └╥┘\n",
       "c: 2/══════════════════════════╩══╩═\n",
       "                               0  1 "
      ]
     },
     "metadata": {},
     "output_type": "display_data"
    },
    {
     "name": "stdout",
     "output_type": "stream",
     "text": [
      "(x,y) = (0,1)\n"
     ]
    },
    {
     "data": {
      "text/html": [
       "<pre style=\"word-wrap: normal;white-space: pre;background: #fff0;line-height: 1.1;font-family: &quot;Courier New&quot;,Courier,monospace\">     ┌───┐      ░  ┌───────┐ ┌─┐   \n",
       "q_0: ┤ H ├──■───░──┤ Ry(0) ├─┤M├───\n",
       "     └───┘┌─┴─┐ ░ ┌┴───────┴┐└╥┘┌─┐\n",
       "q_1: ─────┤ X ├─░─┤ Ry(π/4) ├─╫─┤M├\n",
       "          └───┘ ░ └─────────┘ ║ └╥┘\n",
       "c: 2/═════════════════════════╩══╩═\n",
       "                              0  1 </pre>"
      ],
      "text/plain": [
       "     ┌───┐      ░  ┌───────┐ ┌─┐   \n",
       "q_0: ┤ H ├──■───░──┤ Ry(0) ├─┤M├───\n",
       "     └───┘┌─┴─┐ ░ ┌┴───────┴┐└╥┘┌─┐\n",
       "q_1: ─────┤ X ├─░─┤ Ry(π/4) ├─╫─┤M├\n",
       "          └───┘ ░ └─────────┘ ║ └╥┘\n",
       "c: 2/═════════════════════════╩══╩═\n",
       "                              0  1 "
      ]
     },
     "metadata": {},
     "output_type": "display_data"
    },
    {
     "name": "stdout",
     "output_type": "stream",
     "text": [
      "(x,y) = (1,0)\n"
     ]
    },
    {
     "data": {
      "text/html": [
       "<pre style=\"word-wrap: normal;white-space: pre;background: #fff0;line-height: 1.1;font-family: &quot;Courier New&quot;,Courier,monospace\">     ┌───┐      ░ ┌──────────┐┌─┐   \n",
       "q_0: ┤ H ├──■───░─┤ Ry(-π/2) ├┤M├───\n",
       "     └───┘┌─┴─┐ ░ ├──────────┤└╥┘┌─┐\n",
       "q_1: ─────┤ X ├─░─┤ Ry(-π/4) ├─╫─┤M├\n",
       "          └───┘ ░ └──────────┘ ║ └╥┘\n",
       "c: 2/══════════════════════════╩══╩═\n",
       "                               0  1 </pre>"
      ],
      "text/plain": [
       "     ┌───┐      ░ ┌──────────┐┌─┐   \n",
       "q_0: ┤ H ├──■───░─┤ Ry(-π/2) ├┤M├───\n",
       "     └───┘┌─┴─┐ ░ ├──────────┤└╥┘┌─┐\n",
       "q_1: ─────┤ X ├─░─┤ Ry(-π/4) ├─╫─┤M├\n",
       "          └───┘ ░ └──────────┘ ║ └╥┘\n",
       "c: 2/══════════════════════════╩══╩═\n",
       "                               0  1 "
      ]
     },
     "metadata": {},
     "output_type": "display_data"
    },
    {
     "name": "stdout",
     "output_type": "stream",
     "text": [
      "(x,y) = (1,1)\n"
     ]
    },
    {
     "data": {
      "text/html": [
       "<pre style=\"word-wrap: normal;white-space: pre;background: #fff0;line-height: 1.1;font-family: &quot;Courier New&quot;,Courier,monospace\">     ┌───┐      ░ ┌──────────┐┌─┐   \n",
       "q_0: ┤ H ├──■───░─┤ Ry(-π/2) ├┤M├───\n",
       "     └───┘┌─┴─┐ ░ ├─────────┬┘└╥┘┌─┐\n",
       "q_1: ─────┤ X ├─░─┤ Ry(π/4) ├──╫─┤M├\n",
       "          └───┘ ░ └─────────┘  ║ └╥┘\n",
       "c: 2/══════════════════════════╩══╩═\n",
       "                               0  1 </pre>"
      ],
      "text/plain": [
       "     ┌───┐      ░ ┌──────────┐┌─┐   \n",
       "q_0: ┤ H ├──■───░─┤ Ry(-π/2) ├┤M├───\n",
       "     └───┘┌─┴─┐ ░ ├─────────┬┘└╥┘┌─┐\n",
       "q_1: ─────┤ X ├─░─┤ Ry(π/4) ├──╫─┤M├\n",
       "          └───┘ ░ └─────────┘  ║ └╥┘\n",
       "c: 2/══════════════════════════╩══╩═\n",
       "                               0  1 "
      ]
     },
     "metadata": {},
     "output_type": "display_data"
    }
   ],
   "source": [
    "# Draw the four possible circuits\n",
    "\n",
    "print(\"(x,y) = (0,0)\")\n",
    "display(chsh_circuit(0, 0).draw())\n",
    "\n",
    "print(\"(x,y) = (0,1)\")\n",
    "display(chsh_circuit(0, 1).draw())\n",
    "\n",
    "print(\"(x,y) = (1,0)\")\n",
    "display(chsh_circuit(1, 0).draw())\n",
    "\n",
    "print(\"(x,y) = (1,1)\")\n",
    "display(chsh_circuit(1, 1).draw())"
   ]
  },
  {
   "cell_type": "code",
   "execution_count": 15,
   "metadata": {},
   "outputs": [],
   "source": [
    "from qiskit_aer import AerSimulator\n",
    "\n",
    "simulator = AerSimulator()\n",
    "\n",
    "\n",
    "def quantum_strategy(x, y):\n",
    "    \"\"\"Carry out the best strategy for the CHSH game.\n",
    "    Args:\n",
    "        x (int): Alice's bit (must be 0 or 1)\n",
    "        y (int): Bob's bit (must be 0 or 1)\n",
    "    Returns:\n",
    "        (int, int): Alice and Bob's answer bits (respectively)\n",
    "    \"\"\"\n",
    "    # `shots=1` runs the circuit once\n",
    "    # `memory=True` enables the `.get_memory()` method\n",
    "    job = simulator.run(chsh_circuit(x, y), shots=1, memory=True)\n",
    "    result = job.result().get_memory()[0]\n",
    "    a, b = result[0], result[1]\n",
    "    return a, b"
   ]
  },
  {
   "cell_type": "code",
   "execution_count": 16,
   "metadata": {},
   "outputs": [
    {
     "name": "stdout",
     "output_type": "stream",
     "text": [
      "Fraction of games won: 0.849\n"
     ]
    }
   ],
   "source": [
    "NUM_GAMES = 1000\n",
    "TOTAL_SCORE = 0\n",
    "\n",
    "for _ in range(NUM_GAMES):\n",
    "    TOTAL_SCORE += chsh_game(quantum_strategy)\n",
    "\n",
    "print(\"Fraction of games won:\", TOTAL_SCORE / NUM_GAMES)"
   ]
  },
  {
   "attachments": {},
   "cell_type": "markdown",
   "metadata": {},
   "source": [
    "We can also define a classical strategy and see how well it works. Feel free to change the code to try out different strategies!"
   ]
  },
  {
   "cell_type": "code",
   "execution_count": 17,
   "metadata": {},
   "outputs": [],
   "source": [
    "def classical_strategy(x, y):\n",
    "    \"\"\"The best classical strategy for the CHSH game\n",
    "    Args:\n",
    "        x (int): Alice's bit (must be 0 or 1)\n",
    "        y (int): Bob's bit (must be 0 or 1)\n",
    "    Returns:\n",
    "        (int, int): Alice and Bob's answer bits (respectively)\n",
    "    \"\"\"\n",
    "    # Alice's answer\n",
    "    if x == 0:\n",
    "        a = 0\n",
    "    elif x == 1:\n",
    "        a = 1\n",
    "\n",
    "    # Bob's answer\n",
    "    if y == 0:\n",
    "        b = 1\n",
    "    elif y == 1:\n",
    "        b = 0\n",
    "\n",
    "    return a, b"
   ]
  },
  {
   "cell_type": "code",
   "execution_count": 18,
   "metadata": {},
   "outputs": [
    {
     "name": "stdout",
     "output_type": "stream",
     "text": [
      "Fraction of games won: 0.756\n"
     ]
    }
   ],
   "source": [
    "NUM_GAMES = 1000\n",
    "TOTAL_SCORE = 0\n",
    "\n",
    "for _ in range(NUM_GAMES):\n",
    "    TOTAL_SCORE += chsh_game(classical_strategy)\n",
    "\n",
    "print(\"Fraction of games won:\", TOTAL_SCORE / NUM_GAMES)"
   ]
  },
  {
   "cell_type": "code",
   "execution_count": 19,
   "metadata": {},
   "outputs": [
    {
     "data": {
      "text/html": [
       "<pre style=\"word-wrap: normal;white-space: pre;background: #fff0;line-height: 1.1;font-family: &quot;Courier New&quot;,Courier,monospace\">     ┌───┐                     \n",
       "q_0: ┤ X ├──■─────────■────────\n",
       "     └───┘  │         │        \n",
       "q_1: ───────┼────■────■────────\n",
       "          ┌─┴─┐┌─┴─┐  │  ┌─┐   \n",
       "q_2: ─────┤ X ├┤ X ├──┼──┤M├───\n",
       "          └───┘└───┘┌─┴─┐└╥┘┌─┐\n",
       "q_3: ───────────────┤ X ├─╫─┤M├\n",
       "                    └───┘ ║ └╥┘\n",
       "c: 2/═════════════════════╩══╩═\n",
       "                          0  1 </pre>"
      ],
      "text/plain": [
       "     ┌───┐                     \n",
       "q_0: ┤ X ├──■─────────■────────\n",
       "     └───┘  │         │        \n",
       "q_1: ───────┼────■────■────────\n",
       "          ┌─┴─┐┌─┴─┐  │  ┌─┐   \n",
       "q_2: ─────┤ X ├┤ X ├──┼──┤M├───\n",
       "          └───┘└───┘┌─┴─┐└╥┘┌─┐\n",
       "q_3: ───────────────┤ X ├─╫─┤M├\n",
       "                    └───┘ ║ └╥┘\n",
       "c: 2/═════════════════════╩══╩═\n",
       "                          0  1 "
      ]
     },
     "execution_count": 19,
     "metadata": {},
     "output_type": "execute_result"
    }
   ],
   "source": [
    "# Half Adder\n",
    "\n",
    "test = QuantumCircuit(4,2)\n",
    "\n",
    "# we encode the input 10\n",
    "test.x(0)\n",
    "\n",
    "# It scarries out the adder circuit\n",
    "test.cx(0,2)\n",
    "test.cx(1,2)\n",
    "test.ccx(0,1,3)\n",
    "\n",
    "test.measure(2,0)\n",
    "test.measure(3,1)\n",
    "test.draw()"
   ]
  },
  {
   "cell_type": "code",
   "execution_count": 20,
   "metadata": {},
   "outputs": [
    {
     "data": {
      "image/png": "[encoded data removed]",
      "text/plain": [
       "<Figure size 700x500 with 1 Axes>"
      ]
     },
     "execution_count": 20,
     "metadata": {},
     "output_type": "execute_result"
    }
   ],
   "source": [
    "counts = AerSimulator().run(test).result().get_counts()\n",
    "plot_histogram(counts)"
   ]
  }
 ],
 "metadata": {
  "kernelspec": {
   "display_name": "Quantum",
   "language": "python",
   "name": "python3"
  },
  "language_info": {
   "codemirror_mode": {
    "name": "ipython",
    "version": 3
   },
   "file_extension": ".py",
   "mimetype": "text/x-python",
   "name": "python",
   "nbconvert_exporter": "python",
   "pygments_lexer": "ipython3",
   "version": "3.10.9"
  },
  "orig_nbformat": 4
 },
 "nbformat": 4,
 "nbformat_minor": 2
}
